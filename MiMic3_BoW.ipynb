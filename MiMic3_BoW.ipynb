{
 "cells": [
  {
   "cell_type": "code",
   "execution_count": 2,
   "metadata": {
    "colab": {
     "base_uri": "https://localhost:8080/",
     "height": 35
    },
    "executionInfo": {
     "elapsed": 25611,
     "status": "ok",
     "timestamp": 1602969825121,
     "user": {
      "displayName": "XiaoWen Ji",
      "photoUrl": "",
      "userId": "02743193640501597305"
     },
     "user_tz": 420
    },
    "id": "8oqb-cv9DCOm",
    "outputId": "850b0705-d62c-4f3f-e9cf-b370533860d4"
   },
   "outputs": [
    {
     "name": "stdout",
     "output_type": "stream",
     "text": [
      "Mounted at /content/drive\n"
     ]
    }
   ],
   "source": [
    "from google.colab import drive\n",
    "drive.mount(\"/content/drive\")"
   ]
  },
  {
   "cell_type": "code",
   "execution_count": 3,
   "metadata": {
    "executionInfo": {
     "elapsed": 2861,
     "status": "ok",
     "timestamp": 1602969836900,
     "user": {
      "displayName": "XiaoWen Ji",
      "photoUrl": "",
      "userId": "02743193640501597305"
     },
     "user_tz": 420
    },
    "id": "40qepXzRDGEC"
   },
   "outputs": [],
   "source": [
    "import pandas as pd\n",
    "import numpy as np\n",
    "import matplotlib.pyplot as plt"
   ]
  },
  {
   "cell_type": "code",
   "execution_count": 4,
   "metadata": {
    "executionInfo": {
     "elapsed": 3905,
     "status": "ok",
     "timestamp": 1602969837952,
     "user": {
      "displayName": "XiaoWen Ji",
      "photoUrl": "",
      "userId": "02743193640501597305"
     },
     "user_tz": 420
    },
    "id": "0SQVFf_TDazJ"
   },
   "outputs": [],
   "source": [
    "# read the admissions table\n",
    "df_adm = pd.read_csv('/content/drive/My Drive/ADMISSIONS.csv', parse_dates = ['ADMITTIME', 'DISCHTIME',\n",
    "       'DEATHTIME'], infer_datetime_format = True, engine = \"c\")"
   ]
  },
  {
   "cell_type": "code",
   "execution_count": 5,
   "metadata": {
    "executionInfo": {
     "elapsed": 3903,
     "status": "ok",
     "timestamp": 1602969837958,
     "user": {
      "displayName": "XiaoWen Ji",
      "photoUrl": "",
      "userId": "02743193640501597305"
     },
     "user_tz": 420
    },
    "id": "-56bJgzlELcf"
   },
   "outputs": [],
   "source": [
    "df_adm = df_adm[['SUBJECT_ID', 'HADM_ID', 'ADMITTIME', 'DISCHTIME',\n",
    "       'DEATHTIME', 'ADMISSION_TYPE']]"
   ]
  },
  {
   "cell_type": "code",
   "execution_count": 6,
   "metadata": {
    "colab": {
     "base_uri": "https://localhost:8080/",
     "height": 248
    },
    "executionInfo": {
     "elapsed": 3669,
     "status": "ok",
     "timestamp": 1602969837959,
     "user": {
      "displayName": "XiaoWen Ji",
      "photoUrl": "",
      "userId": "02743193640501597305"
     },
     "user_tz": 420
    },
    "id": "vYUud_inEp_v",
    "outputId": "a70d3040-615f-47ca-e1c2-9f63aba74571"
   },
   "outputs": [
    {
     "name": "stdout",
     "output_type": "stream",
     "text": [
      "<class 'pandas.core.frame.DataFrame'>\n",
      "RangeIndex: 58976 entries, 0 to 58975\n",
      "Data columns (total 6 columns):\n",
      " #   Column          Non-Null Count  Dtype         \n",
      "---  ------          --------------  -----         \n",
      " 0   SUBJECT_ID      58976 non-null  int64         \n",
      " 1   HADM_ID         58976 non-null  int64         \n",
      " 2   ADMITTIME       58976 non-null  datetime64[ns]\n",
      " 3   DISCHTIME       58976 non-null  datetime64[ns]\n",
      " 4   DEATHTIME       5854 non-null   datetime64[ns]\n",
      " 5   ADMISSION_TYPE  58976 non-null  object        \n",
      "dtypes: datetime64[ns](3), int64(2), object(1)\n",
      "memory usage: 2.7+ MB\n"
     ]
    }
   ],
   "source": [
    "df_adm.info()"
   ]
  },
  {
   "cell_type": "code",
   "execution_count": 7,
   "metadata": {
    "executionInfo": {
     "elapsed": 3659,
     "status": "ok",
     "timestamp": 1602969837960,
     "user": {
      "displayName": "XiaoWen Ji",
      "photoUrl": "",
      "userId": "02743193640501597305"
     },
     "user_tz": 420
    },
    "id": "pNg1DLk6Erjf"
   },
   "outputs": [],
   "source": [
    "df_adm = df_adm.sort_values(['SUBJECT_ID','ADMITTIME'])\n",
    "df_adm = df_adm.reset_index(drop = True) # avoid old index become a new column"
   ]
  },
  {
   "cell_type": "code",
   "execution_count": 8,
   "metadata": {
    "executionInfo": {
     "elapsed": 3648,
     "status": "ok",
     "timestamp": 1602969837961,
     "user": {
      "displayName": "XiaoWen Ji",
      "photoUrl": "",
      "userId": "02743193640501597305"
     },
     "user_tz": 420
    },
    "id": "hNKAHqP8K3Fz"
   },
   "outputs": [],
   "source": [
    "#df_adm.head(50)"
   ]
  },
  {
   "cell_type": "code",
   "execution_count": 9,
   "metadata": {
    "executionInfo": {
     "elapsed": 3645,
     "status": "ok",
     "timestamp": 1602969837962,
     "user": {
      "displayName": "XiaoWen Ji",
      "photoUrl": "",
      "userId": "02743193640501597305"
     },
     "user_tz": 420
    },
    "id": "6dWjc_rBE21d"
   },
   "outputs": [],
   "source": [
    "df_adm['NEXT_ADMITTIME'] = df_adm.groupby('SUBJECT_ID').ADMITTIME.shift(-1) # shift won't change the original column, but add column by shifting"
   ]
  },
  {
   "cell_type": "code",
   "execution_count": 10,
   "metadata": {
    "executionInfo": {
     "elapsed": 3641,
     "status": "ok",
     "timestamp": 1602969837963,
     "user": {
      "displayName": "XiaoWen Ji",
      "photoUrl": "",
      "userId": "02743193640501597305"
     },
     "user_tz": 420
    },
    "id": "pld6QywQE754"
   },
   "outputs": [],
   "source": [
    "df_adm['NEXT_ADMISSION_TYPE'] = df_adm.groupby('SUBJECT_ID').ADMISSION_TYPE.shift(-1)"
   ]
  },
  {
   "cell_type": "code",
   "execution_count": null,
   "metadata": {
    "colab": {
     "base_uri": "https://localhost:8080/",
     "height": 1000
    },
    "executionInfo": {
     "elapsed": 3619,
     "status": "ok",
     "timestamp": 1602969837964,
     "user": {
      "displayName": "XiaoWen Ji",
      "photoUrl": "",
      "userId": "02743193640501597305"
     },
     "user_tz": 420
    },
    "id": "hHWNaA6HFIh2",
    "outputId": "39a66fd4-62b9-4401-ada8-ea5f97991936"
   },
   "outputs": [],
   "source": [
    "pd.set_option('display.max_rows', 500)\n",
    "#df_adm.head(200)"
   ]
  },
  {
   "cell_type": "code",
   "execution_count": 12,
   "metadata": {
    "executionInfo": {
     "elapsed": 3608,
     "status": "ok",
     "timestamp": 1602969837966,
     "user": {
      "displayName": "XiaoWen Ji",
      "photoUrl": "",
      "userId": "02743193640501597305"
     },
     "user_tz": 420
    },
    "id": "diQziaMuFaV8"
   },
   "outputs": [],
   "source": [
    "rows = df_adm.NEXT_ADMISSION_TYPE == 'ELECTIVE'\n",
    "df_adm.loc[rows,'NEXT_ADMITTIME'] = pd.NaT\n",
    "df_adm.loc[rows,'NEXT_ADMISSION_TYPE'] = np.NaN"
   ]
  },
  {
   "cell_type": "code",
   "execution_count": null,
   "metadata": {
    "id": "MViF-q11GymD"
   },
   "outputs": [],
   "source": [
    "df_adm.head(200)"
   ]
  },
  {
   "cell_type": "code",
   "execution_count": 14,
   "metadata": {
    "executionInfo": {
     "elapsed": 42446,
     "status": "ok",
     "timestamp": 1602969876833,
     "user": {
      "displayName": "XiaoWen Ji",
      "photoUrl": "",
      "userId": "02743193640501597305"
     },
     "user_tz": 420
    },
    "id": "qFxO3FJhGzTY"
   },
   "outputs": [],
   "source": [
    "df_adm = df_adm.sort_values(['SUBJECT_ID','ADMITTIME'])\n",
    "# back fill (this will take a little while)\n",
    "df_adm[['NEXT_ADMITTIME','NEXT_ADMISSION_TYPE']] = df_adm.groupby(['SUBJECT_ID'])[['NEXT_ADMITTIME','NEXT_ADMISSION_TYPE']].fillna(method = 'bfill')"
   ]
  },
  {
   "cell_type": "code",
   "execution_count": 2,
   "metadata": {
    "colab": {
     "base_uri": "https://localhost:8080/",
     "height": 1000
    },
    "executionInfo": {
     "elapsed": 42422,
     "status": "ok",
     "timestamp": 1602969876834,
     "user": {
      "displayName": "XiaoWen Ji",
      "photoUrl": "",
      "userId": "02743193640501597305"
     },
     "user_tz": 420
    },
    "id": "AFOk8HWhLxWk",
    "outputId": "b283b0e3-1638-4b18-c046-f7282ddbabcf"
   },
   "outputs": [],
   "source": [
    "#df_adm.head(200)"
   ]
  },
  {
   "cell_type": "code",
   "execution_count": 15,
   "metadata": {
    "executionInfo": {
     "elapsed": 42416,
     "status": "ok",
     "timestamp": 1602969876835,
     "user": {
      "displayName": "XiaoWen Ji",
      "photoUrl": "",
      "userId": "02743193640501597305"
     },
     "user_tz": 420
    },
    "id": "Gy9Fnfm1MFN-"
   },
   "outputs": [],
   "source": []
  },
  {
   "cell_type": "markdown",
   "metadata": {
    "id": "UKF6TQ6LQXg7"
   },
   "source": [
    "Time difference between two admissions in days:"
   ]
  },
  {
   "cell_type": "code",
   "execution_count": 16,
   "metadata": {
    "executionInfo": {
     "elapsed": 42408,
     "status": "ok",
     "timestamp": 1602969876836,
     "user": {
      "displayName": "XiaoWen Ji",
      "photoUrl": "",
      "userId": "02743193640501597305"
     },
     "user_tz": 420
    },
    "id": "Vq3gQZ8sQXHX"
   },
   "outputs": [],
   "source": [
    "df_adm['DAYS_NEXT_ADMIT']=  (df_adm.NEXT_ADMITTIME - df_adm.DISCHTIME).dt.total_seconds()/(24*60*60)"
   ]
  },
  {
   "cell_type": "code",
   "execution_count": 3,
   "metadata": {
    "colab": {
     "base_uri": "https://localhost:8080/",
     "height": 1000
    },
    "executionInfo": {
     "elapsed": 42387,
     "status": "ok",
     "timestamp": 1602969876837,
     "user": {
      "displayName": "XiaoWen Ji",
      "photoUrl": "",
      "userId": "02743193640501597305"
     },
     "user_tz": 420
    },
    "id": "WfVRihjZQgaz",
    "outputId": "0ced80be-847e-47a3-db82-cb26edbc563c"
   },
   "outputs": [],
   "source": [
    "#df_adm.head(200)"
   ]
  },
  {
   "cell_type": "code",
   "execution_count": 18,
   "metadata": {
    "executionInfo": {
     "elapsed": 42382,
     "status": "ok",
     "timestamp": 1602969876838,
     "user": {
      "displayName": "XiaoWen Ji",
      "photoUrl": "",
      "userId": "02743193640501597305"
     },
     "user_tz": 420
    },
    "id": "pktPdgmOR4Ei"
   },
   "outputs": [],
   "source": [
    "use_cols = ['SUBJECT_ID', 'HADM_ID', 'CATEGORY', 'TEXT']"
   ]
  },
  {
   "cell_type": "code",
   "execution_count": 19,
   "metadata": {
    "executionInfo": {
     "elapsed": 131954,
     "status": "ok",
     "timestamp": 1602969966415,
     "user": {
      "displayName": "XiaoWen Ji",
      "photoUrl": "",
      "userId": "02743193640501597305"
     },
     "user_tz": 420
    },
    "id": "kvW-Gdg7SFLz"
   },
   "outputs": [],
   "source": [
    "df_notes = pd.read_csv(\"/content/drive/My Drive/NOTEEVENTS.csv\",usecols= use_cols, low_memory = False, engine = \"c\")"
   ]
  },
  {
   "cell_type": "code",
   "execution_count": 20,
   "metadata": {
    "colab": {
     "base_uri": "https://localhost:8080/",
     "height": 200
    },
    "executionInfo": {
     "elapsed": 131933,
     "status": "ok",
     "timestamp": 1602969966417,
     "user": {
      "displayName": "XiaoWen Ji",
      "photoUrl": "",
      "userId": "02743193640501597305"
     },
     "user_tz": 420
    },
    "id": "j8jy3Jg9SicZ",
    "outputId": "ba4105c3-9f96-4f42-e2f3-e04c8257d623"
   },
   "outputs": [
    {
     "data": {
      "text/html": [
       "<div>\n",
       "<style scoped>\n",
       "    .dataframe tbody tr th:only-of-type {\n",
       "        vertical-align: middle;\n",
       "    }\n",
       "\n",
       "    .dataframe tbody tr th {\n",
       "        vertical-align: top;\n",
       "    }\n",
       "\n",
       "    .dataframe thead th {\n",
       "        text-align: right;\n",
       "    }\n",
       "</style>\n",
       "<table border=\"1\" class=\"dataframe\">\n",
       "  <thead>\n",
       "    <tr style=\"text-align: right;\">\n",
       "      <th></th>\n",
       "      <th>SUBJECT_ID</th>\n",
       "      <th>HADM_ID</th>\n",
       "      <th>CATEGORY</th>\n",
       "      <th>TEXT</th>\n",
       "    </tr>\n",
       "  </thead>\n",
       "  <tbody>\n",
       "    <tr>\n",
       "      <th>0</th>\n",
       "      <td>22532</td>\n",
       "      <td>167853.0</td>\n",
       "      <td>Discharge summary</td>\n",
       "      <td>Admission Date:  [**2151-7-16**]       Dischar...</td>\n",
       "    </tr>\n",
       "    <tr>\n",
       "      <th>1</th>\n",
       "      <td>13702</td>\n",
       "      <td>107527.0</td>\n",
       "      <td>Discharge summary</td>\n",
       "      <td>Admission Date:  [**2118-6-2**]       Discharg...</td>\n",
       "    </tr>\n",
       "    <tr>\n",
       "      <th>2</th>\n",
       "      <td>13702</td>\n",
       "      <td>167118.0</td>\n",
       "      <td>Discharge summary</td>\n",
       "      <td>Admission Date:  [**2119-5-4**]              D...</td>\n",
       "    </tr>\n",
       "    <tr>\n",
       "      <th>3</th>\n",
       "      <td>13702</td>\n",
       "      <td>196489.0</td>\n",
       "      <td>Discharge summary</td>\n",
       "      <td>Admission Date:  [**2124-7-21**]              ...</td>\n",
       "    </tr>\n",
       "    <tr>\n",
       "      <th>4</th>\n",
       "      <td>26880</td>\n",
       "      <td>135453.0</td>\n",
       "      <td>Discharge summary</td>\n",
       "      <td>Admission Date:  [**2162-3-3**]              D...</td>\n",
       "    </tr>\n",
       "  </tbody>\n",
       "</table>\n",
       "</div>"
      ],
      "text/plain": [
       "   SUBJECT_ID  ...                                               TEXT\n",
       "0       22532  ...  Admission Date:  [**2151-7-16**]       Dischar...\n",
       "1       13702  ...  Admission Date:  [**2118-6-2**]       Discharg...\n",
       "2       13702  ...  Admission Date:  [**2119-5-4**]              D...\n",
       "3       13702  ...  Admission Date:  [**2124-7-21**]              ...\n",
       "4       26880  ...  Admission Date:  [**2162-3-3**]              D...\n",
       "\n",
       "[5 rows x 4 columns]"
      ]
     },
     "execution_count": 20,
     "metadata": {
      "tags": []
     },
     "output_type": "execute_result"
    }
   ],
   "source": [
    "df_notes.head()"
   ]
  },
  {
   "cell_type": "code",
   "execution_count": 21,
   "metadata": {
    "colab": {
     "base_uri": "https://localhost:8080/",
     "height": 35
    },
    "executionInfo": {
     "elapsed": 131887,
     "status": "ok",
     "timestamp": 1602969966418,
     "user": {
      "displayName": "XiaoWen Ji",
      "photoUrl": "",
      "userId": "02743193640501597305"
     },
     "user_tz": 420
    },
    "id": "8cJ_TjyIS8SB",
    "outputId": "36ededbd-9315-4ca4-c121-97c1f8ea908f"
   },
   "outputs": [
    {
     "data": {
      "text/plain": [
       "(2083180, 4)"
      ]
     },
     "execution_count": 21,
     "metadata": {
      "tags": []
     },
     "output_type": "execute_result"
    }
   ],
   "source": [
    "df_notes.shape"
   ]
  },
  {
   "cell_type": "markdown",
   "metadata": {
    "id": "oZ9BaXTpRCAs"
   },
   "source": [
    "Find the last discharge summary from each patients' all admission"
   ]
  },
  {
   "cell_type": "code",
   "execution_count": 22,
   "metadata": {
    "executionInfo": {
     "elapsed": 131881,
     "status": "ok",
     "timestamp": 1602969966419,
     "user": {
      "displayName": "XiaoWen Ji",
      "photoUrl": "",
      "userId": "02743193640501597305"
     },
     "user_tz": 420
    },
    "id": "KGJa4JaZS0Rs"
   },
   "outputs": [],
   "source": [
    "\n",
    "df_notes_dis_sum = df_notes.loc[df_notes.CATEGORY == 'Discharge summary']"
   ]
  },
  {
   "cell_type": "code",
   "execution_count": 23,
   "metadata": {
    "colab": {
     "base_uri": "https://localhost:8080/",
     "height": 35
    },
    "executionInfo": {
     "elapsed": 131860,
     "status": "ok",
     "timestamp": 1602969966419,
     "user": {
      "displayName": "XiaoWen Ji",
      "photoUrl": "",
      "userId": "02743193640501597305"
     },
     "user_tz": 420
    },
    "id": "c865Nn8eTCvp",
    "outputId": "c41b35db-877c-4ba6-b57f-fe4a64eb5e5f"
   },
   "outputs": [
    {
     "data": {
      "text/plain": [
       "(59652, 4)"
      ]
     },
     "execution_count": 23,
     "metadata": {
      "tags": []
     },
     "output_type": "execute_result"
    }
   ],
   "source": [
    "df_notes_dis_sum.shape"
   ]
  },
  {
   "cell_type": "code",
   "execution_count": 24,
   "metadata": {
    "executionInfo": {
     "elapsed": 131852,
     "status": "ok",
     "timestamp": 1602969966420,
     "user": {
      "displayName": "XiaoWen Ji",
      "photoUrl": "",
      "userId": "02743193640501597305"
     },
     "user_tz": 420
    },
    "id": "ch--t8OrUf3a"
   },
   "outputs": [],
   "source": [
    "del df_notes"
   ]
  },
  {
   "cell_type": "code",
   "execution_count": 25,
   "metadata": {
    "executionInfo": {
     "elapsed": 132223,
     "status": "ok",
     "timestamp": 1602969966797,
     "user": {
      "displayName": "XiaoWen Ji",
      "photoUrl": "",
      "userId": "02743193640501597305"
     },
     "user_tz": 420
    },
    "id": "joB9bF-JVx2_"
   },
   "outputs": [],
   "source": [
    "df_notes_dis_sum_last = (df_notes_dis_sum.groupby(['SUBJECT_ID','HADM_ID']).nth(-1)).reset_index()"
   ]
  },
  {
   "cell_type": "code",
   "execution_count": 26,
   "metadata": {
    "colab": {
     "base_uri": "https://localhost:8080/",
     "height": 35
    },
    "executionInfo": {
     "elapsed": 132203,
     "status": "ok",
     "timestamp": 1602969966798,
     "user": {
      "displayName": "XiaoWen Ji",
      "photoUrl": "",
      "userId": "02743193640501597305"
     },
     "user_tz": 420
    },
    "id": "ZwLdusaxWolG",
    "outputId": "65ac274b-216e-442f-a65f-d3be98f3bb7b"
   },
   "outputs": [
    {
     "data": {
      "text/plain": [
       "(52726, 4)"
      ]
     },
     "execution_count": 26,
     "metadata": {
      "tags": []
     },
     "output_type": "execute_result"
    }
   ],
   "source": [
    "df_notes_dis_sum_last.shape"
   ]
  },
  {
   "cell_type": "code",
   "execution_count": 27,
   "metadata": {
    "colab": {
     "base_uri": "https://localhost:8080/",
     "height": 35
    },
    "executionInfo": {
     "elapsed": 132175,
     "status": "ok",
     "timestamp": 1602969966799,
     "user": {
      "displayName": "XiaoWen Ji",
      "photoUrl": "",
      "userId": "02743193640501597305"
     },
     "user_tz": 420
    },
    "id": "F3N2FayFYtLt",
    "outputId": "21a95d29-2e2e-48c0-d941-2110cb845416"
   },
   "outputs": [
    {
     "data": {
      "text/plain": [
       "0"
      ]
     },
     "execution_count": 27,
     "metadata": {
      "tags": []
     },
     "output_type": "execute_result"
    }
   ],
   "source": [
    "df_notes_dis_sum_last.duplicated(['HADM_ID']).sum()"
   ]
  },
  {
   "cell_type": "code",
   "execution_count": 28,
   "metadata": {
    "colab": {
     "base_uri": "https://localhost:8080/",
     "height": 35
    },
    "executionInfo": {
     "elapsed": 132147,
     "status": "ok",
     "timestamp": 1602969966799,
     "user": {
      "displayName": "XiaoWen Ji",
      "photoUrl": "",
      "userId": "02743193640501597305"
     },
     "user_tz": 420
    },
    "id": "FQaR3aKnZTPU",
    "outputId": "b2f6f7dd-5233-4641-addd-8d76bd189529"
   },
   "outputs": [
    {
     "data": {
      "text/plain": [
       "(58976, 9)"
      ]
     },
     "execution_count": 28,
     "metadata": {
      "tags": []
     },
     "output_type": "execute_result"
    }
   ],
   "source": [
    "df_adm.shape"
   ]
  },
  {
   "cell_type": "markdown",
   "metadata": {
    "id": "NjIoNfxCZSCE"
   },
   "source": [
    "Merging two tables based on Subject_ID and HADM_ID"
   ]
  },
  {
   "cell_type": "markdown",
   "metadata": {
    "id": "2SXh1S7eZaE1"
   },
   "source": [
    "Joining two tables:"
   ]
  },
  {
   "cell_type": "code",
   "execution_count": 29,
   "metadata": {
    "executionInfo": {
     "elapsed": 132145,
     "status": "ok",
     "timestamp": 1602969966801,
     "user": {
      "displayName": "XiaoWen Ji",
      "photoUrl": "",
      "userId": "02743193640501597305"
     },
     "user_tz": 420
    },
    "id": "8z8ALdK2YwNi"
   },
   "outputs": [],
   "source": [
    "df_adm_notes = pd.merge(df_adm, df_notes_dis_sum_last, on = ['SUBJECT_ID','HADM_ID'],how = 'left')"
   ]
  },
  {
   "cell_type": "code",
   "execution_count": 30,
   "metadata": {
    "colab": {
     "base_uri": "https://localhost:8080/",
     "height": 35
    },
    "executionInfo": {
     "elapsed": 132114,
     "status": "ok",
     "timestamp": 1602969966802,
     "user": {
      "displayName": "XiaoWen Ji",
      "photoUrl": "",
      "userId": "02743193640501597305"
     },
     "user_tz": 420
    },
    "id": "62H2t8WyZuez",
    "outputId": "2507c40f-5af4-4fa4-dc39-e2f34d5e4aca"
   },
   "outputs": [
    {
     "data": {
      "text/plain": [
       "(58976, 11)"
      ]
     },
     "execution_count": 30,
     "metadata": {
      "tags": []
     },
     "output_type": "execute_result"
    }
   ],
   "source": [
    "df_adm_notes.shape"
   ]
  },
  {
   "cell_type": "code",
   "execution_count": 31,
   "metadata": {
    "colab": {
     "base_uri": "https://localhost:8080/",
     "height": 35
    },
    "executionInfo": {
     "elapsed": 132091,
     "status": "ok",
     "timestamp": 1602969966803,
     "user": {
      "displayName": "XiaoWen Ji",
      "photoUrl": "",
      "userId": "02743193640501597305"
     },
     "user_tz": 420
    },
    "id": "Lgj6kFnNZwf5",
    "outputId": "7d7b2cad-6299-486e-8da1-b3d25d2615c0"
   },
   "outputs": [
    {
     "data": {
      "text/plain": [
       "0.1059753119913185"
      ]
     },
     "execution_count": 31,
     "metadata": {
      "tags": []
     },
     "output_type": "execute_result"
    }
   ],
   "source": [
    "df_adm_notes.TEXT.isnull().sum() / len(df_adm_notes) # percentage of text.NA"
   ]
  },
  {
   "cell_type": "code",
   "execution_count": 32,
   "metadata": {
    "colab": {
     "base_uri": "https://localhost:8080/",
     "height": 124
    },
    "executionInfo": {
     "elapsed": 132071,
     "status": "ok",
     "timestamp": 1602969966803,
     "user": {
      "displayName": "XiaoWen Ji",
      "photoUrl": "",
      "userId": "02743193640501597305"
     },
     "user_tz": 420
    },
    "id": "4dvKZm2gZ-wb",
    "outputId": "89b53d71-ca86-4450-deb6-66edf6680603"
   },
   "outputs": [
    {
     "data": {
      "text/plain": [
       "ADMISSION_TYPE\n",
       "ELECTIVE      375\n",
       "EMERGENCY    1598\n",
       "NEWBORN      4220\n",
       "URGENT         57\n",
       "dtype: int64"
      ]
     },
     "execution_count": 32,
     "metadata": {
      "tags": []
     },
     "output_type": "execute_result"
    }
   ],
   "source": [
    "\n",
    "df_adm_notes.groupby('ADMISSION_TYPE').apply(lambda g: g.TEXT.isnull().sum())"
   ]
  },
  {
   "cell_type": "code",
   "execution_count": 33,
   "metadata": {
    "colab": {
     "base_uri": "https://localhost:8080/",
     "height": 124
    },
    "executionInfo": {
     "elapsed": 132047,
     "status": "ok",
     "timestamp": 1602969966804,
     "user": {
      "displayName": "XiaoWen Ji",
      "photoUrl": "",
      "userId": "02743193640501597305"
     },
     "user_tz": 420
    },
    "id": "T8rGoJRHbNaR",
    "outputId": "2204cd77-ae63-4103-c532-63ba239b1546"
   },
   "outputs": [
    {
     "data": {
      "text/plain": [
       "ADMISSION_TYPE\n",
       "ELECTIVE      7706\n",
       "EMERGENCY    42071\n",
       "NEWBORN       7863\n",
       "URGENT        1336\n",
       "dtype: int64"
      ]
     },
     "execution_count": 33,
     "metadata": {
      "tags": []
     },
     "output_type": "execute_result"
    }
   ],
   "source": [
    "df_adm_notes.groupby('ADMISSION_TYPE').size()"
   ]
  },
  {
   "cell_type": "code",
   "execution_count": 34,
   "metadata": {
    "colab": {
     "base_uri": "https://localhost:8080/",
     "height": 124
    },
    "executionInfo": {
     "elapsed": 132029,
     "status": "ok",
     "timestamp": 1602969966804,
     "user": {
      "displayName": "XiaoWen Ji",
      "photoUrl": "",
      "userId": "02743193640501597305"
     },
     "user_tz": 420
    },
    "id": "pCYIprypbgWH",
    "outputId": "fdf79465-56ae-4834-c159-168871fab8bf"
   },
   "outputs": [
    {
     "data": {
      "text/plain": [
       "ADMISSION_TYPE\n",
       "ELECTIVE     0.048663\n",
       "EMERGENCY    0.037983\n",
       "NEWBORN      0.536691\n",
       "URGENT       0.042665\n",
       "dtype: float64"
      ]
     },
     "execution_count": 34,
     "metadata": {
      "tags": []
     },
     "output_type": "execute_result"
    }
   ],
   "source": [
    "df_adm_notes.groupby('ADMISSION_TYPE').apply(lambda g: g.TEXT.isnull().sum())/df_adm_notes.groupby('ADMISSION_TYPE').size()"
   ]
  },
  {
   "cell_type": "code",
   "execution_count": 35,
   "metadata": {
    "executionInfo": {
     "elapsed": 132024,
     "status": "ok",
     "timestamp": 1602969966805,
     "user": {
      "displayName": "XiaoWen Ji",
      "photoUrl": "",
      "userId": "02743193640501597305"
     },
     "user_tz": 420
    },
    "id": "z44_QwGNbmdM"
   },
   "outputs": [],
   "source": [
    "df_adm_notes_clean = df_adm_notes.loc[df_adm_notes.ADMISSION_TYPE != \"NEWBORN\"]"
   ]
  },
  {
   "cell_type": "code",
   "execution_count": 36,
   "metadata": {
    "colab": {
     "base_uri": "https://localhost:8080/",
     "height": 124
    },
    "executionInfo": {
     "elapsed": 132005,
     "status": "ok",
     "timestamp": 1602969966805,
     "user": {
      "displayName": "XiaoWen Ji",
      "photoUrl": "",
      "userId": "02743193640501597305"
     },
     "user_tz": 420
    },
    "id": "RyUsLoTlcEfU",
    "outputId": "8c6e6a6d-af48-4ab3-f890-22f366275219"
   },
   "outputs": [
    {
     "name": "stderr",
     "output_type": "stream",
     "text": [
      "/usr/local/lib/python3.6/dist-packages/ipykernel_launcher.py:1: SettingWithCopyWarning: \n",
      "A value is trying to be set on a copy of a slice from a DataFrame.\n",
      "Try using .loc[row_indexer,col_indexer] = value instead\n",
      "\n",
      "See the caveats in the documentation: https://pandas.pydata.org/pandas-docs/stable/user_guide/indexing.html#returning-a-view-versus-a-copy\n",
      "  \"\"\"Entry point for launching an IPython kernel.\n"
     ]
    }
   ],
   "source": [
    "df_adm_notes_clean['OUTPUT_LABEL'] = (df_adm_notes_clean.DAYS_NEXT_ADMIT < 30).astype('int')"
   ]
  },
  {
   "cell_type": "code",
   "execution_count": 37,
   "metadata": {
    "colab": {
     "base_uri": "https://localhost:8080/",
     "height": 387
    },
    "executionInfo": {
     "elapsed": 132301,
     "status": "ok",
     "timestamp": 1602969967119,
     "user": {
      "displayName": "XiaoWen Ji",
      "photoUrl": "",
      "userId": "02743193640501597305"
     },
     "user_tz": 420
    },
    "id": "b1HzQ3d5cIUU",
    "outputId": "0dd78d50-1911-4fe3-d6be-6168f3681531"
   },
   "outputs": [
    {
     "data": {
      "text/html": [
       "<div>\n",
       "<style scoped>\n",
       "    .dataframe tbody tr th:only-of-type {\n",
       "        vertical-align: middle;\n",
       "    }\n",
       "\n",
       "    .dataframe tbody tr th {\n",
       "        vertical-align: top;\n",
       "    }\n",
       "\n",
       "    .dataframe thead th {\n",
       "        text-align: right;\n",
       "    }\n",
       "</style>\n",
       "<table border=\"1\" class=\"dataframe\">\n",
       "  <thead>\n",
       "    <tr style=\"text-align: right;\">\n",
       "      <th></th>\n",
       "      <th>SUBJECT_ID</th>\n",
       "      <th>HADM_ID</th>\n",
       "      <th>ADMITTIME</th>\n",
       "      <th>DISCHTIME</th>\n",
       "      <th>DEATHTIME</th>\n",
       "      <th>ADMISSION_TYPE</th>\n",
       "      <th>NEXT_ADMITTIME</th>\n",
       "      <th>NEXT_ADMISSION_TYPE</th>\n",
       "      <th>DAYS_NEXT_ADMIT</th>\n",
       "      <th>CATEGORY</th>\n",
       "      <th>TEXT</th>\n",
       "      <th>OUTPUT_LABEL</th>\n",
       "    </tr>\n",
       "  </thead>\n",
       "  <tbody>\n",
       "    <tr>\n",
       "      <th>1</th>\n",
       "      <td>3</td>\n",
       "      <td>145834</td>\n",
       "      <td>2101-10-20 19:08:00</td>\n",
       "      <td>2101-10-31 13:58:00</td>\n",
       "      <td>NaT</td>\n",
       "      <td>EMERGENCY</td>\n",
       "      <td>NaT</td>\n",
       "      <td>NaN</td>\n",
       "      <td>NaN</td>\n",
       "      <td>Discharge summary</td>\n",
       "      <td>Admission Date:  [**2101-10-20**]     Discharg...</td>\n",
       "      <td>0</td>\n",
       "    </tr>\n",
       "    <tr>\n",
       "      <th>2</th>\n",
       "      <td>4</td>\n",
       "      <td>185777</td>\n",
       "      <td>2191-03-16 00:28:00</td>\n",
       "      <td>2191-03-23 18:41:00</td>\n",
       "      <td>NaT</td>\n",
       "      <td>EMERGENCY</td>\n",
       "      <td>NaT</td>\n",
       "      <td>NaN</td>\n",
       "      <td>NaN</td>\n",
       "      <td>Discharge summary</td>\n",
       "      <td>Admission Date:  [**2191-3-16**]     Discharge...</td>\n",
       "      <td>0</td>\n",
       "    </tr>\n",
       "    <tr>\n",
       "      <th>4</th>\n",
       "      <td>6</td>\n",
       "      <td>107064</td>\n",
       "      <td>2175-05-30 07:15:00</td>\n",
       "      <td>2175-06-15 16:00:00</td>\n",
       "      <td>NaT</td>\n",
       "      <td>ELECTIVE</td>\n",
       "      <td>NaT</td>\n",
       "      <td>NaN</td>\n",
       "      <td>NaN</td>\n",
       "      <td>Discharge summary</td>\n",
       "      <td>Admission Date: [**2175-5-30**]        Dischar...</td>\n",
       "      <td>0</td>\n",
       "    </tr>\n",
       "    <tr>\n",
       "      <th>7</th>\n",
       "      <td>9</td>\n",
       "      <td>150750</td>\n",
       "      <td>2149-11-09 13:06:00</td>\n",
       "      <td>2149-11-14 10:15:00</td>\n",
       "      <td>2149-11-14 10:15:00</td>\n",
       "      <td>EMERGENCY</td>\n",
       "      <td>NaT</td>\n",
       "      <td>NaN</td>\n",
       "      <td>NaN</td>\n",
       "      <td>Discharge summary</td>\n",
       "      <td>Name:  [**Known lastname 10050**], [**Known fi...</td>\n",
       "      <td>0</td>\n",
       "    </tr>\n",
       "    <tr>\n",
       "      <th>9</th>\n",
       "      <td>11</td>\n",
       "      <td>194540</td>\n",
       "      <td>2178-04-16 06:18:00</td>\n",
       "      <td>2178-05-11 19:00:00</td>\n",
       "      <td>NaT</td>\n",
       "      <td>EMERGENCY</td>\n",
       "      <td>NaT</td>\n",
       "      <td>NaN</td>\n",
       "      <td>NaN</td>\n",
       "      <td>Discharge summary</td>\n",
       "      <td>Admission Date:  [**2178-4-16**]              ...</td>\n",
       "      <td>0</td>\n",
       "    </tr>\n",
       "  </tbody>\n",
       "</table>\n",
       "</div>"
      ],
      "text/plain": [
       "   SUBJECT_ID  ...  OUTPUT_LABEL\n",
       "1           3  ...             0\n",
       "2           4  ...             0\n",
       "4           6  ...             0\n",
       "7           9  ...             0\n",
       "9          11  ...             0\n",
       "\n",
       "[5 rows x 12 columns]"
      ]
     },
     "execution_count": 37,
     "metadata": {
      "tags": []
     },
     "output_type": "execute_result"
    }
   ],
   "source": [
    "df_adm_notes_clean.head()"
   ]
  },
  {
   "cell_type": "code",
   "execution_count": 38,
   "metadata": {
    "executionInfo": {
     "elapsed": 132293,
     "status": "ok",
     "timestamp": 1602969967120,
     "user": {
      "displayName": "XiaoWen Ji",
      "photoUrl": "",
      "userId": "02743193640501597305"
     },
     "user_tz": 420
    },
    "id": "faK5jtz6xtID"
   },
   "outputs": [],
   "source": [
    "#df_adm_notes_clean['CATEGORY']"
   ]
  },
  {
   "cell_type": "code",
   "execution_count": 39,
   "metadata": {
    "colab": {
     "base_uri": "https://localhost:8080/",
     "height": 70
    },
    "executionInfo": {
     "elapsed": 132274,
     "status": "ok",
     "timestamp": 1602969967121,
     "user": {
      "displayName": "XiaoWen Ji",
      "photoUrl": "",
      "userId": "02743193640501597305"
     },
     "user_tz": 420
    },
    "id": "EFUj3OwUcO9C",
    "outputId": "38c54bb8-4a50-4c29-ba06-496ffd261110"
   },
   "outputs": [
    {
     "data": {
      "text/plain": [
       "0    48109\n",
       "1     3004\n",
       "Name: OUTPUT_LABEL, dtype: int64"
      ]
     },
     "execution_count": 39,
     "metadata": {
      "tags": []
     },
     "output_type": "execute_result"
    }
   ],
   "source": [
    "df_adm_notes_clean.OUTPUT_LABEL.value_counts()"
   ]
  },
  {
   "cell_type": "code",
   "execution_count": 40,
   "metadata": {
    "colab": {
     "base_uri": "https://localhost:8080/",
     "height": 355
    },
    "executionInfo": {
     "elapsed": 132255,
     "status": "ok",
     "timestamp": 1602969967122,
     "user": {
      "displayName": "XiaoWen Ji",
      "photoUrl": "",
      "userId": "02743193640501597305"
     },
     "user_tz": 420
    },
    "id": "Ziv8H-RccSMr",
    "outputId": "731765bb-9b5c-4966-9b4a-ee232d667fd5"
   },
   "outputs": [
    {
     "name": "stdout",
     "output_type": "stream",
     "text": [
      "<class 'pandas.core.frame.DataFrame'>\n",
      "Int64Index: 51113 entries, 1 to 58975\n",
      "Data columns (total 12 columns):\n",
      " #   Column               Non-Null Count  Dtype         \n",
      "---  ------               --------------  -----         \n",
      " 0   SUBJECT_ID           51113 non-null  int64         \n",
      " 1   HADM_ID              51113 non-null  int64         \n",
      " 2   ADMITTIME            51113 non-null  datetime64[ns]\n",
      " 3   DISCHTIME            51113 non-null  datetime64[ns]\n",
      " 4   DEATHTIME            5792 non-null   datetime64[ns]\n",
      " 5   ADMISSION_TYPE       51113 non-null  object        \n",
      " 6   NEXT_ADMITTIME       11169 non-null  datetime64[ns]\n",
      " 7   NEXT_ADMISSION_TYPE  11169 non-null  object        \n",
      " 8   DAYS_NEXT_ADMIT      11169 non-null  float64       \n",
      " 9   CATEGORY             49083 non-null  object        \n",
      " 10  TEXT                 49083 non-null  object        \n",
      " 11  OUTPUT_LABEL         51113 non-null  int64         \n",
      "dtypes: datetime64[ns](4), float64(1), int64(3), object(4)\n",
      "memory usage: 5.1+ MB\n"
     ]
    }
   ],
   "source": [
    "df_adm_notes_clean.info()"
   ]
  },
  {
   "cell_type": "code",
   "execution_count": 41,
   "metadata": {
    "executionInfo": {
     "elapsed": 141024,
     "status": "ok",
     "timestamp": 1602969975899,
     "user": {
      "displayName": "XiaoWen Ji",
      "photoUrl": "",
      "userId": "02743193640501597305"
     },
     "user_tz": 420
    },
    "id": "8d_xQxLzcWDz"
   },
   "outputs": [],
   "source": [
    "df_adm_notes_clean.to_pickle('/content/drive/My Drive/Prepared_Data.pkl')"
   ]
  },
  {
   "cell_type": "markdown",
   "metadata": {
    "id": "96uxPtm8X6I3"
   },
   "source": [
    "Top 30 common words in raw corpus?"
   ]
  },
  {
   "cell_type": "markdown",
   "metadata": {
    "id": "Wa_TizROoRbt"
   },
   "source": [
    "Shuffling the samples"
   ]
  },
  {
   "cell_type": "code",
   "execution_count": 42,
   "metadata": {
    "executionInfo": {
     "elapsed": 141022,
     "status": "ok",
     "timestamp": 1602969975902,
     "user": {
      "displayName": "XiaoWen Ji",
      "photoUrl": "",
      "userId": "02743193640501597305"
     },
     "user_tz": 420
    },
    "id": "UvQBECD6giAT"
   },
   "outputs": [],
   "source": [
    "f_adm_notes_clean = df_adm_notes_clean.sample(n = len(df_adm_notes_clean), random_state = 42)"
   ]
  },
  {
   "cell_type": "code",
   "execution_count": 43,
   "metadata": {
    "executionInfo": {
     "elapsed": 141011,
     "status": "ok",
     "timestamp": 1602969975903,
     "user": {
      "displayName": "XiaoWen Ji",
      "photoUrl": "",
      "userId": "02743193640501597305"
     },
     "user_tz": 420
    },
    "id": "_gHxbWUKoYwy"
   },
   "outputs": [],
   "source": [
    "df_adm_notes_clean = df_adm_notes_clean.reset_index(drop = True)"
   ]
  },
  {
   "cell_type": "markdown",
   "metadata": {
    "id": "a3UkUp46okkR"
   },
   "source": [
    "Save 20% of the data for validation:"
   ]
  },
  {
   "cell_type": "code",
   "execution_count": 44,
   "metadata": {
    "executionInfo": {
     "elapsed": 141004,
     "status": "ok",
     "timestamp": 1602969975905,
     "user": {
      "displayName": "XiaoWen Ji",
      "photoUrl": "",
      "userId": "02743193640501597305"
     },
     "user_tz": 420
    },
    "id": "Cw9_bVLaom60"
   },
   "outputs": [],
   "source": [
    "df_valid = df_adm_notes_clean.sample(frac=0.2,random_state=42)"
   ]
  },
  {
   "cell_type": "code",
   "execution_count": 45,
   "metadata": {
    "executionInfo": {
     "elapsed": 143492,
     "status": "ok",
     "timestamp": 1602969978401,
     "user": {
      "displayName": "XiaoWen Ji",
      "photoUrl": "",
      "userId": "02743193640501597305"
     },
     "user_tz": 420
    },
    "id": "c7ZGQbtiotPC"
   },
   "outputs": [],
   "source": [
    "df_valid.to_pickle('/content/drive/My Drive/df_valid.pkl')"
   ]
  },
  {
   "cell_type": "code",
   "execution_count": 46,
   "metadata": {
    "executionInfo": {
     "elapsed": 143487,
     "status": "ok",
     "timestamp": 1602969978405,
     "user": {
      "displayName": "XiaoWen Ji",
      "photoUrl": "",
      "userId": "02743193640501597305"
     },
     "user_tz": 420
    },
    "id": "szpVYZNRo3JR"
   },
   "outputs": [],
   "source": [
    "df_train_all=df_adm_notes_clean.drop(df_valid.index)"
   ]
  },
  {
   "cell_type": "code",
   "execution_count": 47,
   "metadata": {
    "executionInfo": {
     "elapsed": 143482,
     "status": "ok",
     "timestamp": 1602969978406,
     "user": {
      "displayName": "XiaoWen Ji",
      "photoUrl": "",
      "userId": "02743193640501597305"
     },
     "user_tz": 420
    },
    "id": "43szqmYbo7Eh"
   },
   "outputs": [],
   "source": [
    "rows_pos = df_train_all.OUTPUT_LABEL == 1"
   ]
  },
  {
   "cell_type": "code",
   "execution_count": 48,
   "metadata": {
    "colab": {
     "base_uri": "https://localhost:8080/",
     "height": 230
    },
    "executionInfo": {
     "elapsed": 143459,
     "status": "ok",
     "timestamp": 1602969978406,
     "user": {
      "displayName": "XiaoWen Ji",
      "photoUrl": "",
      "userId": "02743193640501597305"
     },
     "user_tz": 420
    },
    "id": "5gdfKW98pOvw",
    "outputId": "a33a3b8c-8710-43e5-939f-9f8fb1fadd00"
   },
   "outputs": [
    {
     "data": {
      "text/plain": [
       "0        True\n",
       "1        True\n",
       "2        True\n",
       "3        True\n",
       "5        True\n",
       "         ... \n",
       "51108    True\n",
       "51109    True\n",
       "51110    True\n",
       "51111    True\n",
       "51112    True\n",
       "Name: OUTPUT_LABEL, Length: 40890, dtype: bool"
      ]
     },
     "execution_count": 48,
     "metadata": {
      "tags": []
     },
     "output_type": "execute_result"
    }
   ],
   "source": [
    "~rows_pos "
   ]
  },
  {
   "cell_type": "code",
   "execution_count": 49,
   "metadata": {
    "executionInfo": {
     "elapsed": 143452,
     "status": "ok",
     "timestamp": 1602969978407,
     "user": {
      "displayName": "XiaoWen Ji",
      "photoUrl": "",
      "userId": "02743193640501597305"
     },
     "user_tz": 420
    },
    "id": "RPFFvRn7pWkt"
   },
   "outputs": [],
   "source": [
    "df_train_pos = df_train_all.loc[rows_pos]\n",
    "df_train_neg = df_train_all.loc[~rows_pos]"
   ]
  },
  {
   "cell_type": "code",
   "execution_count": 50,
   "metadata": {
    "executionInfo": {
     "elapsed": 143446,
     "status": "ok",
     "timestamp": 1602969978407,
     "user": {
      "displayName": "XiaoWen Ji",
      "photoUrl": "",
      "userId": "02743193640501597305"
     },
     "user_tz": 420
    },
    "id": "_Q5fFdsupabQ"
   },
   "outputs": [],
   "source": [
    "#downsampling : make len(neg) = len(pos)\n",
    "df_train = pd.concat([df_train_pos, df_train_neg.sample(n = len(df_train_pos), random_state = 42)],axis = 0)"
   ]
  },
  {
   "cell_type": "code",
   "execution_count": 51,
   "metadata": {
    "executionInfo": {
     "elapsed": 143440,
     "status": "ok",
     "timestamp": 1602969978408,
     "user": {
      "displayName": "XiaoWen Ji",
      "photoUrl": "",
      "userId": "02743193640501597305"
     },
     "user_tz": 420
    },
    "id": "BZed5bXypn_R"
   },
   "outputs": [],
   "source": [
    "df_train = df_train.sample(n = len(df_train), random_state = 42).reset_index(drop = True)"
   ]
  },
  {
   "cell_type": "code",
   "execution_count": 52,
   "metadata": {
    "executionInfo": {
     "elapsed": 143433,
     "status": "ok",
     "timestamp": 1602969978408,
     "user": {
      "displayName": "XiaoWen Ji",
      "photoUrl": "",
      "userId": "02743193640501597305"
     },
     "user_tz": 420
    },
    "id": "30et-ky3ppjS"
   },
   "outputs": [],
   "source": [
    "#keep multiple records\n",
    "df_train.to_pickle('df_train.pkl')"
   ]
  },
  {
   "cell_type": "code",
   "execution_count": 53,
   "metadata": {
    "colab": {
     "base_uri": "https://localhost:8080/",
     "height": 370
    },
    "executionInfo": {
     "elapsed": 143761,
     "status": "ok",
     "timestamp": 1602969978765,
     "user": {
      "displayName": "XiaoWen Ji",
      "photoUrl": "",
      "userId": "02743193640501597305"
     },
     "user_tz": 420
    },
    "id": "Ok_d9RMwjdo4",
    "outputId": "e340a6a5-9252-4d92-8eaf-6d70d10b91ba"
   },
   "outputs": [
    {
     "data": {
      "text/html": [
       "<div>\n",
       "<style scoped>\n",
       "    .dataframe tbody tr th:only-of-type {\n",
       "        vertical-align: middle;\n",
       "    }\n",
       "\n",
       "    .dataframe tbody tr th {\n",
       "        vertical-align: top;\n",
       "    }\n",
       "\n",
       "    .dataframe thead th {\n",
       "        text-align: right;\n",
       "    }\n",
       "</style>\n",
       "<table border=\"1\" class=\"dataframe\">\n",
       "  <thead>\n",
       "    <tr style=\"text-align: right;\">\n",
       "      <th></th>\n",
       "      <th>SUBJECT_ID</th>\n",
       "      <th>HADM_ID</th>\n",
       "      <th>ADMITTIME</th>\n",
       "      <th>DISCHTIME</th>\n",
       "      <th>DEATHTIME</th>\n",
       "      <th>ADMISSION_TYPE</th>\n",
       "      <th>NEXT_ADMITTIME</th>\n",
       "      <th>NEXT_ADMISSION_TYPE</th>\n",
       "      <th>DAYS_NEXT_ADMIT</th>\n",
       "      <th>CATEGORY</th>\n",
       "      <th>TEXT</th>\n",
       "      <th>OUTPUT_LABEL</th>\n",
       "    </tr>\n",
       "  </thead>\n",
       "  <tbody>\n",
       "    <tr>\n",
       "      <th>0</th>\n",
       "      <td>15453</td>\n",
       "      <td>168028</td>\n",
       "      <td>2110-12-07 23:49:00</td>\n",
       "      <td>2110-12-13 10:56:00</td>\n",
       "      <td>NaT</td>\n",
       "      <td>EMERGENCY</td>\n",
       "      <td>2110-12-14 22:44:00</td>\n",
       "      <td>EMERGENCY</td>\n",
       "      <td>1.491667</td>\n",
       "      <td>Discharge summary</td>\n",
       "      <td>Admission Date:  [**2110-12-7**]       Dischar...</td>\n",
       "      <td>1</td>\n",
       "    </tr>\n",
       "    <tr>\n",
       "      <th>1</th>\n",
       "      <td>31972</td>\n",
       "      <td>152547</td>\n",
       "      <td>2163-12-22 17:23:00</td>\n",
       "      <td>2163-12-23 04:08:00</td>\n",
       "      <td>2163-12-23 04:08:00</td>\n",
       "      <td>EMERGENCY</td>\n",
       "      <td>2163-12-23 04:08:00</td>\n",
       "      <td>EMERGENCY</td>\n",
       "      <td>0.000000</td>\n",
       "      <td>Discharge summary</td>\n",
       "      <td>Admission Date:  [**2163-12-22**]             ...</td>\n",
       "      <td>1</td>\n",
       "    </tr>\n",
       "    <tr>\n",
       "      <th>2</th>\n",
       "      <td>20928</td>\n",
       "      <td>113718</td>\n",
       "      <td>2114-02-23 10:30:00</td>\n",
       "      <td>2114-03-15 14:00:00</td>\n",
       "      <td>NaT</td>\n",
       "      <td>ELECTIVE</td>\n",
       "      <td>NaT</td>\n",
       "      <td>NaN</td>\n",
       "      <td>NaN</td>\n",
       "      <td>Discharge summary</td>\n",
       "      <td>Admission Date:  [**2114-2-23**]              ...</td>\n",
       "      <td>0</td>\n",
       "    </tr>\n",
       "    <tr>\n",
       "      <th>3</th>\n",
       "      <td>98905</td>\n",
       "      <td>110019</td>\n",
       "      <td>2184-09-24 07:15:00</td>\n",
       "      <td>2184-09-24 20:22:00</td>\n",
       "      <td>NaT</td>\n",
       "      <td>ELECTIVE</td>\n",
       "      <td>NaT</td>\n",
       "      <td>NaN</td>\n",
       "      <td>NaN</td>\n",
       "      <td>NaN</td>\n",
       "      <td>NaN</td>\n",
       "      <td>0</td>\n",
       "    </tr>\n",
       "    <tr>\n",
       "      <th>4</th>\n",
       "      <td>19819</td>\n",
       "      <td>151971</td>\n",
       "      <td>2173-02-11 20:56:00</td>\n",
       "      <td>2173-02-19 15:25:00</td>\n",
       "      <td>NaT</td>\n",
       "      <td>EMERGENCY</td>\n",
       "      <td>NaT</td>\n",
       "      <td>NaN</td>\n",
       "      <td>NaN</td>\n",
       "      <td>Discharge summary</td>\n",
       "      <td>Admission Date:  [**2173-2-11**]              ...</td>\n",
       "      <td>0</td>\n",
       "    </tr>\n",
       "  </tbody>\n",
       "</table>\n",
       "</div>"
      ],
      "text/plain": [
       "   SUBJECT_ID  ...  OUTPUT_LABEL\n",
       "0       15453  ...             1\n",
       "1       31972  ...             1\n",
       "2       20928  ...             0\n",
       "3       98905  ...             0\n",
       "4       19819  ...             0\n",
       "\n",
       "[5 rows x 12 columns]"
      ]
     },
     "execution_count": 53,
     "metadata": {
      "tags": []
     },
     "output_type": "execute_result"
    }
   ],
   "source": [
    "df_train.head()"
   ]
  },
  {
   "cell_type": "markdown",
   "metadata": {
    "id": "n73gP3mrpxQh"
   },
   "source": [
    "Preprocess for bag-of-words (BoF):"
   ]
  },
  {
   "cell_type": "code",
   "execution_count": 54,
   "metadata": {
    "colab": {
     "base_uri": "https://localhost:8080/",
     "height": 124
    },
    "executionInfo": {
     "elapsed": 143742,
     "status": "ok",
     "timestamp": 1602969978766,
     "user": {
      "displayName": "XiaoWen Ji",
      "photoUrl": "",
      "userId": "02743193640501597305"
     },
     "user_tz": 420
    },
    "id": "zaX9vy5fjR-C",
    "outputId": "f32ca834-0c9b-4c12-a3de-78053c0eedc8"
   },
   "outputs": [
    {
     "data": {
      "application/vnd.google.colaboratory.intrinsic+json": {
       "type": "string"
      },
      "text/plain": [
       "\"Admission Date:  [**2110-12-7**]       Discharge Date:  [**2110-12-13**]\\n\\nDate of Birth:   [**2061-12-15**]       Sex:  M\\n\\nService:\\n\\nHISTORY OF PRESENT ILLNESS:  The patient is a 48 year old\\nmale with a history of hepatitis C virus and hepatocellular\\ncancer status post chemoembo in [**5-6**] who presented to\\n[**Hospital3 4298**] E.D. on [**2110-12-7**] with hematemesis since\\n[**2110-12-5**].  He had one episode of hematemesis on [**12-5**]/ and two\\nepisodes on [**12-6**] as well as hematemesis and hematochezia on\\n[**12-7**].  At [**Hospital3 4298**] E.D. patient was noted to have a\\nhematocrit of 18 and was transfused two units of packed red\\nblood cells and was noted to be having coagulopathy with INR\\nof 2.1 and was given FFP as well as vitamin K.  Patient\\ndenies any past history of varices or upper GI bleed.  He\\ndenies recent alcohol or drug use.  He was feeling nauseated\\nand began vomiting and continued to have hematemesis for\\nthree days until he was transferred to [**Hospital1 18**] for definitive\\ncare.  Patient was transfused a total of five units of packed\\nred blood cells and was given vitamin K to counteract his\\ncoagulopathy.  He underwent EGD on [**2110-12-8**] and was banded\\nwith sclerotherapy for grade 3 lower esophageal varices in\\nboth the lower and mid-esophagus.  Patient also had an\\nabdominal CT on [**2110-12-4**] for followup of chemoembo which\\nshowed portal vein thrombosis.  At present patient denied\\nshortness of breath, chest pain, headache, nausea, vomiting.\\nNo fever, or chills.  He states he feels much better now.\\n\\nPAST MEDICAL HISTORY:  Significant for hepatitis C virus and\\nalcoholic cirrhosis diagnosed in [**2101**].  Duodenal ulcer status\\npost perforation with repair in [**2101**].  He was diagnosed with\\nhepatocellular carcinoma in [**5-6**].  He had radiotherapy as\\nwell as chemoembolization therapy.\\n\\nALLERGIES:  No known drug allergies.\\n\\nMEDICATIONS:  Aldactone 50 mg q.d., Lasix 20 mg q.o.d.,\\nPercocet, Dilaudid, Zantac, OxyContin.\\n\\nSOCIAL HISTORY:  He is a smoker and a former drinker.  Denies\\ndrug use.\\n\\nPHYSICAL EXAMINATION:  Upon admission patient had blood\\npressure of 130/90, heart rate 99, temperature 99.3, sating\\n100% in room air.  Generally, he was slightly drowsy and\\njaundiced in mild distress.  HEENT was normocephalic,\\natraumatic, slightly icteric.  Pupils were equal, round, and\\nreactive to light bilaterally.  No JVD.  Cardiac exam was\\nregular rate and rhythm with a 3/6 systolic ejection murmur\\nat the left base.  Lungs were clear to auscultation with\\nminimal rales at the left base.  Abdomen was distended with\\nmild tenderness in the right lower quadrant, no guarding, no\\nrebound as well as a well healed midline scar.  Extremities\\nrevealed trace pedal edema bilaterally, no clubbing or\\ncyanosis.  Skin exam revealed diffuse spider angioma.  No\\ncaput medusae.  Neuro he was awake, alert and oriented times\\nthree.  Cranial nerves were intact grossly.  He had no focal\\ndeficits.  He had minimal asterixis in the left hand upon\\npresentation, however, it resolved upon admission to [**Hospital1 1444**].\\n\\nLABORATORY DATA:  Patient labs at [**Hospital3 4298**] revealed\\nhematocrit of 18, white count 21.5, platelets 321.  Chem-7\\nwas unremarkable.  LFTs revealed AST of 205, ALT 108, alka\\nphos 208, t-bili 2.8, direct bili 1.9, indirect bili 0.9.\\n\\nHOSPITAL COURSE:  The patient was transferred to [**Hospital1 346**] and was admitted to the intensive\\ncare unit for EGD therapy.\\n\\n1.  Upper GI bleed.  Patient underwent\\nesophagogastroduodenostomy per GI service.  It was noted that\\nhe had grade 3 esophageal varices in the lower third of the\\nesophagus.  He underwent sclerotherapy as well as banding.\\nPatient was started on octreotide for continuation of a five\\nday course status post EGD.  Patient was transfused a total\\nof five units of packed red blood cells and was given vitamin\\nK to correct FFP.  Patient's hematocrit remained stable\\nthroughout the hospitalization after banding and octreotide\\ntherapy.  Patient had no new episodes of hematemesis nor\\nhematochezia during his hospitalization.  Patient became\\nguaiac negative after two days of passing darkened clots in\\nhis stool.\\n\\n2.  Abdominal distension.  Patient underwent unguided\\nparacentesis with withdrawal of approximately 40 cc of\\ntransudative fluid with no cells and cultures were negative.\\nPatient subsequently was ordered for an ultrasound guided\\nparacentesis which revealed trace fluid, no tappable fluid.\\nIt was significant, however, for thickened bowel wall\\nsecondary to edematous changes from fluid overload.  Patient\\nwas to be diuresed with Aldactone and Lasix to remove the\\nexcess fluid in the abdominal wall as well as the intestinal\\nwall.\\n\\n3.  Low grade fever.  Patient had blood cultures drawn times\\nsix which were all negative for bacteremia.  Patient also had\\nchest x-ray which was negative for infiltrate.  There was no\\nsource found for patient's low grade fever.  It is possible\\nthat patient has low grade fever secondary to his\\nhepatocellular carcinoma status post chemoembolization.\\nPatient remained nontoxic appearing throughout his\\nhospitalization and no focus or nidus of infection was found\\nto explain patient's intermittent low grade fever.\\n\\n4.  Mild hypocalcemia and hyponatremia.  Patient was noted to\\nbe hyponatremic to a nadir of 130.  It was felt to be\\nhypervolemic hyponatremia secondary to the low urine sodium\\nand obvious increase in total body water.  Patient was\\ndiuresed and improved with diuresis and sodium corrected\\nwithout further intervention.  It was also noted that patient\\nwas mildly hypocalcemic with corrected calcium of 7.8.\\nPatient received p.o. calcium supplementation.  Hypocalcemia\\nwas most likely secondary to diuresis as well as hepatic\\nfailure secondary to hep C cirrhosis as well as\\nhepatocellular carcinoma.\\n\\n5.  Hepatocellular carcinoma status post chemoembolization.\\nPatient was seen by Dr. [**First Name8 (NamePattern2) **] [**Last Name (NamePattern1) **] in-house for question of\\npossible further chemoembolization.  Dr. [**First Name (STitle) **] stated that\\npatient was no longer a candidate for chemoembolization,\\nhowever, he was a possible candidate for oral chemotherapy.\\nPatient will follow up with Dr. [**First Name8 (NamePattern2) **] [**Last Name (NamePattern1) **] in one to two\\nweeks status post discharge.\\n\\nDISCHARGE STATUS:  The patient is stable for discharge.\\n\\nDISCHARGE DESTINATION:  Home.  Patient is to be taken home by\\n[**First Name4 (NamePattern1) **] [**Last Name (NamePattern1) **] back to his home in [**Location (un) 3844**].\\n\\nDISCHARGE DIAGNOSES:\\n1.  Upper GI bleed secondary to varices status post\\nsclerotherapy as well as band ligation.\\n2.  Blood loss anemia.\\n3.  Hepatocellular carcinoma.\\n4.  Hepatitis C virus.\\n5.  Right upper extremity superficial thrombophlebitis.\\n6.  Hyponatremia, hypocalcemia.\\n7.  Ascites.\\n8.  Pleural vein thrombosis.\\n9.  Alcoholic cirrhosis.\\n\\nDISCHARGE MEDICATIONS:\\n1.  Furosemide 20 mg p.o. q.d.\\n2.  Nadolol 20 mg p.o. b.i.d.\\n3.  Zantac 40 mg p.o. q.24.\\n4.  Oxycodone 20 mg p.o. q.12.\\n5.  Simethicone 40 to 80 mg p.o. q.i.d.\\n6.  Spironolactone 50 mg p.o. b.i.d.\\n7.  Ciprofloxacin 500 mg p.o. q.12.\\n8.  Lactulose 30 ml p.o. t.i.d.\\n\\nFOLLOWUP:  The patient is to follow up with Dr. [**First Name8 (NamePattern2) **] [**Last Name (NamePattern1) **]\\nin one to two weeks status post discharge.  Patient is also\\nto follow up with his PCP in [**Hospital3 4298**].  Patient is\\nalso to follow up with GI service, Dr. [**Last Name (STitle) **], in one week,\\nnext Thursday, for repeat EGD and banding.\\n\\n\\n\\n\\n\\n\\n                            [**Name6 (MD) 2415**] [**Last Name (NamePattern4) 3474**], M.D.  [**MD Number(1) 3475**]\\n\\nDictated By:[**Last Name (NamePattern1) 41735**]\\nMEDQUIST36\\n\\nD:  [**2110-12-12**]  12:27\\nT:  [**2110-12-12**]  12:26\\nJOB#:  [**Job Number 41736**]\\n\""
      ]
     },
     "execution_count": 54,
     "metadata": {
      "tags": []
     },
     "output_type": "execute_result"
    }
   ],
   "source": [
    "df_train['TEXT'][0]"
   ]
  },
  {
   "cell_type": "code",
   "execution_count": 55,
   "metadata": {
    "colab": {
     "base_uri": "https://localhost:8080/",
     "height": 52
    },
    "executionInfo": {
     "elapsed": 145554,
     "status": "ok",
     "timestamp": 1602969980613,
     "user": {
      "displayName": "XiaoWen Ji",
      "photoUrl": "",
      "userId": "02743193640501597305"
     },
     "user_tz": 420
    },
    "id": "QwQzzbQCYyn6",
    "outputId": "b17e820b-37f5-4b11-91f0-d9b0150d3559"
   },
   "outputs": [
    {
     "name": "stdout",
     "output_type": "stream",
     "text": [
      "[nltk_data] Downloading package stopwords to /root/nltk_data...\n",
      "[nltk_data]   Unzipping corpora/stopwords.zip.\n"
     ]
    }
   ],
   "source": [
    "import re\n",
    "import nltk\n",
    "nltk.download('stopwords')\n",
    "from nltk.corpus import stopwords"
   ]
  },
  {
   "cell_type": "code",
   "execution_count": 56,
   "metadata": {
    "executionInfo": {
     "elapsed": 145549,
     "status": "ok",
     "timestamp": 1602969980614,
     "user": {
      "displayName": "XiaoWen Ji",
      "photoUrl": "",
      "userId": "02743193640501597305"
     },
     "user_tz": 420
    },
    "id": "R9WoN6OjZBCX"
   },
   "outputs": [],
   "source": [
    "from nltk.stem.snowball import SnowballStemmer"
   ]
  },
  {
   "cell_type": "code",
   "execution_count": 57,
   "metadata": {
    "executionInfo": {
     "elapsed": 145547,
     "status": "ok",
     "timestamp": 1602969980616,
     "user": {
      "displayName": "XiaoWen Ji",
      "photoUrl": "",
      "userId": "02743193640501597305"
     },
     "user_tz": 420
    },
    "id": "Jsc4bGAQc-0G"
   },
   "outputs": [],
   "source": [
    "ss = SnowballStemmer('english')\n",
    "all_stopwords = stopwords.words('english')"
   ]
  },
  {
   "cell_type": "code",
   "execution_count": 58,
   "metadata": {
    "colab": {
     "base_uri": "https://localhost:8080/",
     "height": 35
    },
    "executionInfo": {
     "elapsed": 145524,
     "status": "ok",
     "timestamp": 1602969980616,
     "user": {
      "displayName": "XiaoWen Ji",
      "photoUrl": "",
      "userId": "02743193640501597305"
     },
     "user_tz": 420
    },
    "id": "KUh2TrcncrUl",
    "outputId": "3e5ec18c-4a86-4b40-cac1-df6966838b9c"
   },
   "outputs": [
    {
     "data": {
      "text/plain": [
       "True"
      ]
     },
     "execution_count": 58,
     "metadata": {
      "tags": []
     },
     "output_type": "execute_result"
    }
   ],
   "source": [
    "'not' in all_stopwords"
   ]
  },
  {
   "cell_type": "code",
   "execution_count": 59,
   "metadata": {
    "executionInfo": {
     "elapsed": 145519,
     "status": "ok",
     "timestamp": 1602969980617,
     "user": {
      "displayName": "XiaoWen Ji",
      "photoUrl": "",
      "userId": "02743193640501597305"
     },
     "user_tz": 420
    },
    "id": "5qqfUCfAdHBT"
   },
   "outputs": [],
   "source": [
    "all_stopwords.remove('not')"
   ]
  },
  {
   "cell_type": "code",
   "execution_count": 60,
   "metadata": {
    "executionInfo": {
     "elapsed": 145513,
     "status": "ok",
     "timestamp": 1602969980617,
     "user": {
      "displayName": "XiaoWen Ji",
      "photoUrl": "",
      "userId": "02743193640501597305"
     },
     "user_tz": 420
    },
    "id": "XBfK4gbfJZyg"
   },
   "outputs": [],
   "source": [
    "def clean_text (x):\n",
    "  x = re.sub(r'[^A-Za-z]', ' ' , x).lower()\n",
    "  x = x.split()\n",
    "  new_list = []\n",
    "  for word in x:\n",
    "    if word not in all_stopwords:\n",
    "      word = ss.stem(word)\n",
    "      new_list.append(word)\n",
    "  return \" \".join(new_list)"
   ]
  },
  {
   "cell_type": "code",
   "execution_count": 61,
   "metadata": {
    "colab": {
     "base_uri": "https://localhost:8080/",
     "height": 124
    },
    "executionInfo": {
     "elapsed": 145497,
     "status": "ok",
     "timestamp": 1602969980618,
     "user": {
      "displayName": "XiaoWen Ji",
      "photoUrl": "",
      "userId": "02743193640501597305"
     },
     "user_tz": 420
    },
    "id": "500KYseFZUFj",
    "outputId": "3e91e6a7-8534-4a89-b258-d9bfe990eb90"
   },
   "outputs": [
    {
     "data": {
      "application/vnd.google.colaboratory.intrinsic+json": {
       "type": "string"
      },
      "text/plain": [
       "'admiss date discharg date date birth sex servic histori present ill patient year old male histori hepat c virus hepatocellular cancer status post chemoembo present hospit e hematemesi sinc one episod hematemesi two episod well hematemesi hematochezia hospit e patient note hematocrit transfus two unit pack red blood cell note coagulopathi inr given ffp well vitamin k patient deni past histori varic upper gi bleed deni recent alcohol drug use feel nauseat began vomit continu hematemesi three day transfer hospit definit care patient transfus total five unit pack red blood cell given vitamin k counteract coagulopathi underw egd band sclerotherapi grade lower esophag varic lower mid esophagus patient also abdomin ct followup chemoembo show portal vein thrombosi present patient deni short breath chest pain headach nausea vomit fever chill state feel much better past medic histori signific hepat c virus alcohol cirrhosi diagnos duoden ulcer status post perfor repair diagnos hepatocellular carcinoma radiotherapi well chemoembol therapi allergi known drug allergi medic aldacton mg q lasix mg q percocet dilaudid zantac oxycontin social histori smoker former drinker deni drug use physic examin upon admiss patient blood pressur heart rate temperatur sate room air general slight drowsi jaundic mild distress heent normocephal atraumat slight icter pupil equal round reactiv light bilater jvd cardiac exam regular rate rhythm systol eject murmur left base lung clear auscult minim rale left base abdomen distend mild tender right lower quadrant guard rebound well well heal midlin scar extrem reveal trace pedal edema bilater club cyanosi skin exam reveal diffus spider angioma caput medusa neuro awak alert orient time three cranial nerv intact grossli focal deficit minim asterixi left hand upon present howev resolv upon admiss hospit laboratori data patient lab hospit reveal hematocrit white count platelet chem unremark lfts reveal ast alt alka phos bili direct bili indirect bili hospit cours patient transfer hospit admit intens care unit egd therapi upper gi bleed patient underw esophagogastroduodenostomi per gi servic note grade esophag varic lower third esophagus underw sclerotherapi well band patient start octreotid continu five day cours status post egd patient transfus total five unit pack red blood cell given vitamin k correct ffp patient hematocrit remain stabl throughout hospit band octreotid therapi patient new episod hematemesi hematochezia hospit patient becam guaiac negat two day pass darken clot stool abdomin distens patient underw unguid paracentesi withdraw approxim cc transud fluid cell cultur negat patient subsequ order ultrasound guid paracentesi reveal trace fluid tappabl fluid signific howev thicken bowel wall secondari edemat chang fluid overload patient diures aldacton lasix remov excess fluid abdomin wall well intestin wall low grade fever patient blood cultur drawn time six negat bacteremia patient also chest x ray negat infiltr sourc found patient low grade fever possibl patient low grade fever secondari hepatocellular carcinoma status post chemoembol patient remain nontox appear throughout hospit focus nidus infect found explain patient intermitt low grade fever mild hypocalcemia hyponatremia patient note hyponatrem nadir felt hypervolem hyponatremia secondari low urin sodium obvious increas total bodi water patient diures improv diuresi sodium correct without intervent also note patient mild hypocalcem correct calcium patient receiv p calcium supplement hypocalcemia like secondari diuresi well hepat failur secondari hep c cirrhosi well hepatocellular carcinoma hepatocellular carcinoma status post chemoembol patient seen dr first name namepattern last name namepattern hous question possibl chemoembol dr first name stitl state patient longer candid chemoembol howev possibl candid oral chemotherapi patient follow dr first name namepattern last name namepattern one two week status post discharg discharg status patient stabl discharg discharg destin home patient taken home first name namepattern last name namepattern back home locat un discharg diagnos upper gi bleed secondari varic status post sclerotherapi well band ligat blood loss anemia hepatocellular carcinoma hepat c virus right upper extrem superfici thrombophleb hyponatremia hypocalcemia ascit pleural vein thrombosi alcohol cirrhosi discharg medic furosemid mg p q nadolol mg p b zantac mg p q oxycodon mg p q simethicon mg p q spironolacton mg p b ciprofloxacin mg p q lactulos ml p followup patient follow dr first name namepattern last name namepattern one two week status post discharg patient also follow pcp hospit patient also follow gi servic dr last name stitl one week next thursday repeat egd band name md last name namepattern md number dictat last name namepattern medquist job job number'"
      ]
     },
     "execution_count": 61,
     "metadata": {
      "tags": []
     },
     "output_type": "execute_result"
    }
   ],
   "source": [
    " #clean_text(df_train.TEXT) won't work\n",
    " clean_text(df_train.TEXT[0])"
   ]
  },
  {
   "cell_type": "code",
   "execution_count": 62,
   "metadata": {
    "executionInfo": {
     "elapsed": 145488,
     "status": "ok",
     "timestamp": 1602969980618,
     "user": {
      "displayName": "XiaoWen Ji",
      "photoUrl": "",
      "userId": "02743193640501597305"
     },
     "user_tz": 420
    },
    "id": "vIJ7sDx7NwUL"
   },
   "outputs": [],
   "source": [
    "# convert all data under TEXT into string "
   ]
  },
  {
   "cell_type": "code",
   "execution_count": 63,
   "metadata": {
    "executionInfo": {
     "elapsed": 145483,
     "status": "ok",
     "timestamp": 1602969980619,
     "user": {
      "displayName": "XiaoWen Ji",
      "photoUrl": "",
      "userId": "02743193640501597305"
     },
     "user_tz": 420
    },
    "id": "zykrU-XhNO_u"
   },
   "outputs": [],
   "source": [
    "df_train['TEXT'] = df_train['TEXT'].apply(str)"
   ]
  },
  {
   "cell_type": "code",
   "execution_count": 64,
   "metadata": {
    "executionInfo": {
     "elapsed": 145474,
     "status": "ok",
     "timestamp": 1602969980619,
     "user": {
      "displayName": "XiaoWen Ji",
      "photoUrl": "",
      "userId": "02743193640501597305"
     },
     "user_tz": 420
    },
    "id": "mmMd98QFNdNT"
   },
   "outputs": [],
   "source": [
    "df_valid['TEXT'] = df_valid['TEXT'].apply(str)"
   ]
  },
  {
   "cell_type": "code",
   "execution_count": 65,
   "metadata": {
    "executionInfo": {
     "elapsed": 145469,
     "status": "ok",
     "timestamp": 1602969980620,
     "user": {
      "displayName": "XiaoWen Ji",
      "photoUrl": "",
      "userId": "02743193640501597305"
     },
     "user_tz": 420
    },
    "id": "fL3vwCEpN4k4"
   },
   "outputs": [],
   "source": [
    "# lambda apply clean_data function"
   ]
  },
  {
   "cell_type": "code",
   "execution_count": 66,
   "metadata": {
    "executionInfo": {
     "elapsed": 218731,
     "status": "ok",
     "timestamp": 1602970053901,
     "user": {
      "displayName": "XiaoWen Ji",
      "photoUrl": "",
      "userId": "02743193640501597305"
     },
     "user_tz": 420
    },
    "id": "oF06moisHDcC"
   },
   "outputs": [],
   "source": [
    "df_train['TEXT'] = df_train.TEXT.apply(lambda x : clean_text(x))"
   ]
  },
  {
   "cell_type": "code",
   "execution_count": 67,
   "metadata": {
    "executionInfo": {
     "elapsed": 357198,
     "status": "ok",
     "timestamp": 1602970192386,
     "user": {
      "displayName": "XiaoWen Ji",
      "photoUrl": "",
      "userId": "02743193640501597305"
     },
     "user_tz": 420
    },
    "id": "jF1oon6YMKhq"
   },
   "outputs": [],
   "source": [
    "df_valid['TEXT'] = df_valid.TEXT.apply(lambda x : clean_text(x))"
   ]
  },
  {
   "cell_type": "code",
   "execution_count": null,
   "metadata": {
    "id": "ZVQBi_yvLmir"
   },
   "outputs": [],
   "source": [
    "df_valid.head()\n"
   ]
  },
  {
   "cell_type": "code",
   "execution_count": null,
   "metadata": {
    "id": "18Ke7YTBJw6F"
   },
   "outputs": [],
   "source": [
    "df_train.head()"
   ]
  },
  {
   "cell_type": "code",
   "execution_count": 174,
   "metadata": {
    "executionInfo": {
     "elapsed": 1140,
     "status": "ok",
     "timestamp": 1602976717053,
     "user": {
      "displayName": "XiaoWen Ji",
      "photoUrl": "",
      "userId": "02743193640501597305"
     },
     "user_tz": 420
    },
    "id": "Tk567Ypz6Sda"
   },
   "outputs": [],
   "source": [
    "X_train = df_train.loc [:, 'TEXT']\n",
    "y_train = df_train.loc [:, 'OUTPUT_LABEL']\n",
    "X_test = df_valid.loc [:, 'TEXT']\n",
    "y_test = df_valid.loc [:, 'OUTPUT_LABEL']"
   ]
  },
  {
   "cell_type": "code",
   "execution_count": 172,
   "metadata": {
    "executionInfo": {
     "elapsed": 667,
     "status": "ok",
     "timestamp": 1602976693965,
     "user": {
      "displayName": "XiaoWen Ji",
      "photoUrl": "",
      "userId": "02743193640501597305"
     },
     "user_tz": 420
    },
    "id": "bIryNxXf0rGQ"
   },
   "outputs": [],
   "source": [
    "my_new_stop_words = ['admiss','discharg','date']"
   ]
  },
  {
   "cell_type": "code",
   "execution_count": 154,
   "metadata": {
    "executionInfo": {
     "elapsed": 410,
     "status": "ok",
     "timestamp": 1602976451863,
     "user": {
      "displayName": "XiaoWen Ji",
      "photoUrl": "",
      "userId": "02743193640501597305"
     },
     "user_tz": 420
    },
    "id": "ypyyDRLmObeT"
   },
   "outputs": [],
   "source": [
    "#Creat bag of word model"
   ]
  },
  {
   "cell_type": "code",
   "execution_count": 175,
   "metadata": {
    "executionInfo": {
     "elapsed": 28377,
     "status": "ok",
     "timestamp": 1602976747766,
     "user": {
      "displayName": "XiaoWen Ji",
      "photoUrl": "",
      "userId": "02743193640501597305"
     },
     "user_tz": 420
    },
    "id": "SuqzO7ISLSoy"
   },
   "outputs": [],
   "source": [
    "# define max features(words); ngram: to recognize two words as a one, like heart-attack\n",
    "from sklearn.feature_extraction.text import CountVectorizer \n",
    "cv = CountVectorizer(max_features = 4000, \n",
    "                     stop_words = my_new_stop_words,\n",
    "                     ngram_range = (1, 2))\n",
    "\n",
    "X_train = cv.fit_transform(X_train)\n",
    "X_test = cv.transform(X_test)"
   ]
  },
  {
   "cell_type": "markdown",
   "metadata": {
    "id": "va0euCsDSOBg"
   },
   "source": [
    "Find top 30 common words in training corpus"
   ]
  },
  {
   "cell_type": "code",
   "execution_count": 176,
   "metadata": {
    "executionInfo": {
     "elapsed": 717,
     "status": "ok",
     "timestamp": 1602976755901,
     "user": {
      "displayName": "XiaoWen Ji",
      "photoUrl": "",
      "userId": "02743193640501597305"
     },
     "user_tz": 420
    },
    "id": "__yzc2muATAd"
   },
   "outputs": [],
   "source": [
    "x = cv.vocabulary_\n",
    "x_sort = {k: v for k, v in sorted(x.items(), key=lambda item: item[1],reverse=True)}"
   ]
  },
  {
   "cell_type": "code",
   "execution_count": 177,
   "metadata": {
    "colab": {
     "base_uri": "https://localhost:8080/",
     "height": 550
    },
    "executionInfo": {
     "elapsed": 1167,
     "status": "ok",
     "timestamp": 1602976761049,
     "user": {
      "displayName": "XiaoWen Ji",
      "photoUrl": "",
      "userId": "02743193640501597305"
     },
     "user_tz": 420
    },
    "id": "v_ZDSZEd0X3z",
    "outputId": "49cb4af4-1c2e-433e-92ba-e80147d7e9a5"
   },
   "outputs": [
    {
     "data": {
      "text/plain": [
       "[('zosyn', 3999),\n",
       " ('zofran', 3998),\n",
       " ('yrs ago', 3997),\n",
       " ('yrs', 3996),\n",
       " ('yo male', 3995),\n",
       " ('yo', 3994),\n",
       " ('yesterday', 3993),\n",
       " ('yellow appear', 3992),\n",
       " ('yellow', 3991),\n",
       " ('yeast none', 3990),\n",
       " ('yeast', 3989),\n",
       " ('year one', 3988),\n",
       " ('year old', 3987),\n",
       " ('year digit', 3986),\n",
       " ('year ago', 3985),\n",
       " ('year', 3984),\n",
       " ('xs pm', 3983),\n",
       " ('xs intubat', 3982),\n",
       " ('xs', 3981),\n",
       " ('xrt', 3980),\n",
       " ('xray', 3979),\n",
       " ('xl mg', 3978),\n",
       " ('xl', 3977),\n",
       " ('xii intact', 3976),\n",
       " ('xii', 3975),\n",
       " ('wwp', 3974),\n",
       " ('wrist', 3973),\n",
       " ('wound care', 3972),\n",
       " ('wound', 3971),\n",
       " ('would', 3970)]"
      ]
     },
     "execution_count": 177,
     "metadata": {
      "tags": []
     },
     "output_type": "execute_result"
    }
   ],
   "source": [
    "from nltk.probability import FreqDist\n",
    "fdist = FreqDist(x_sort)\n",
    "top_thirty = fdist.most_common(30)\n",
    "top_thirty"
   ]
  },
  {
   "cell_type": "code",
   "execution_count": 75,
   "metadata": {
    "executionInfo": {
     "elapsed": 384791,
     "status": "ok",
     "timestamp": 1602970220081,
     "user": {
      "displayName": "XiaoWen Ji",
      "photoUrl": "",
      "userId": "02743193640501597305"
     },
     "user_tz": 420
    },
    "id": "uV7v8VgSWccP"
   },
   "outputs": [],
   "source": [
    "#X_train.head()"
   ]
  },
  {
   "cell_type": "markdown",
   "metadata": {
    "id": "KsZTHQbkPazk"
   },
   "source": [
    "Naive Bayes model"
   ]
  },
  {
   "cell_type": "code",
   "execution_count": 178,
   "metadata": {
    "colab": {
     "base_uri": "https://localhost:8080/",
     "height": 35
    },
    "executionInfo": {
     "elapsed": 1395,
     "status": "ok",
     "timestamp": 1602976767599,
     "user": {
      "displayName": "XiaoWen Ji",
      "photoUrl": "",
      "userId": "02743193640501597305"
     },
     "user_tz": 420
    },
    "id": "3MlxrPbTPhoo",
    "outputId": "734a1872-9496-4a40-cb13-8baaa26b1239"
   },
   "outputs": [
    {
     "data": {
      "text/plain": [
       "GaussianNB(priors=None, var_smoothing=1e-09)"
      ]
     },
     "execution_count": 178,
     "metadata": {
      "tags": []
     },
     "output_type": "execute_result"
    }
   ],
   "source": [
    "from sklearn.naive_bayes import GaussianNB\n",
    "classifier = GaussianNB()\n",
    "classifier.fit(X_train.toarray(), y_train)"
   ]
  },
  {
   "cell_type": "code",
   "execution_count": 179,
   "metadata": {
    "executionInfo": {
     "elapsed": 2035,
     "status": "ok",
     "timestamp": 1602976771620,
     "user": {
      "displayName": "XiaoWen Ji",
      "photoUrl": "",
      "userId": "02743193640501597305"
     },
     "user_tz": 420
    },
    "id": "pmSRwSZbPwOS"
   },
   "outputs": [],
   "source": [
    "y_pred = classifier.predict(X_test.toarray())"
   ]
  },
  {
   "cell_type": "code",
   "execution_count": 180,
   "metadata": {
    "colab": {
     "base_uri": "https://localhost:8080/",
     "height": 35
    },
    "executionInfo": {
     "elapsed": 640,
     "status": "ok",
     "timestamp": 1602976773065,
     "user": {
      "displayName": "XiaoWen Ji",
      "photoUrl": "",
      "userId": "02743193640501597305"
     },
     "user_tz": 420
    },
    "id": "jPRIxUiGP0Jf",
    "outputId": "d449e962-3b07-4b8b-e45e-0f5a071f9574"
   },
   "outputs": [
    {
     "data": {
      "text/plain": [
       "0.635655507662328"
      ]
     },
     "execution_count": 180,
     "metadata": {
      "tags": []
     },
     "output_type": "execute_result"
    }
   ],
   "source": [
    "from sklearn import metrics\n",
    "fpr, tpr, thresholds = metrics.roc_curve(y_test, y_pred)\n",
    "metrics.auc(fpr, tpr)"
   ]
  },
  {
   "cell_type": "code",
   "execution_count": 185,
   "metadata": {
    "executionInfo": {
     "elapsed": 801,
     "status": "ok",
     "timestamp": 1602976864842,
     "user": {
      "displayName": "XiaoWen Ji",
      "photoUrl": "",
      "userId": "02743193640501597305"
     },
     "user_tz": 420
    },
    "id": "sIEDMiy1kKnh"
   },
   "outputs": [],
   "source": [
    "X_train = df_train.loc [:, 'TEXT']\n",
    "y_train = df_train.loc [:, 'OUTPUT_LABEL']\n",
    "X_test = df_valid.loc [:, 'TEXT']\n",
    "y_test = df_valid.loc [:, 'OUTPUT_LABEL']"
   ]
  },
  {
   "cell_type": "code",
   "execution_count": 186,
   "metadata": {
    "executionInfo": {
     "elapsed": 29209,
     "status": "ok",
     "timestamp": 1602976894746,
     "user": {
      "displayName": "XiaoWen Ji",
      "photoUrl": "",
      "userId": "02743193640501597305"
     },
     "user_tz": 420
    },
    "id": "ZfFRTo-BQBIU"
   },
   "outputs": [],
   "source": [
    "#fit transform will create inversed document frequency\n",
    "from sklearn.feature_extraction.text import TfidfVectorizer\n",
    "cv = TfidfVectorizer(max_features= 5000,stop_words = my_new_stop_words,ngram_range = (1, 2))\n",
    "X_train = cv.fit_transform(X_train)\n",
    "X_test = cv.transform(X_test)"
   ]
  },
  {
   "cell_type": "code",
   "execution_count": 187,
   "metadata": {
    "colab": {
     "base_uri": "https://localhost:8080/",
     "height": 35
    },
    "executionInfo": {
     "elapsed": 934,
     "status": "ok",
     "timestamp": 1602976898786,
     "user": {
      "displayName": "XiaoWen Ji",
      "photoUrl": "",
      "userId": "02743193640501597305"
     },
     "user_tz": 420
    },
    "id": "0uCFOc9MQRSf",
    "outputId": "a90b8025-31fe-4512-a167-01c077a278c3"
   },
   "outputs": [
    {
     "data": {
      "text/plain": [
       "GaussianNB(priors=None, var_smoothing=1e-09)"
      ]
     },
     "execution_count": 187,
     "metadata": {
      "tags": []
     },
     "output_type": "execute_result"
    }
   ],
   "source": [
    "from sklearn.naive_bayes import GaussianNB\n",
    "classifier = GaussianNB()\n",
    "classifier.fit(X_train.toarray(), y_train)"
   ]
  },
  {
   "cell_type": "code",
   "execution_count": 188,
   "metadata": {
    "executionInfo": {
     "elapsed": 1536,
     "status": "ok",
     "timestamp": 1602976902323,
     "user": {
      "displayName": "XiaoWen Ji",
      "photoUrl": "",
      "userId": "02743193640501597305"
     },
     "user_tz": 420
    },
    "id": "psLuAiSPQbpe"
   },
   "outputs": [],
   "source": [
    "y_pred = classifier.predict(X_test.toarray())"
   ]
  },
  {
   "cell_type": "code",
   "execution_count": 189,
   "metadata": {
    "colab": {
     "base_uri": "https://localhost:8080/",
     "height": 35
    },
    "executionInfo": {
     "elapsed": 1111,
     "status": "ok",
     "timestamp": 1602976905888,
     "user": {
      "displayName": "XiaoWen Ji",
      "photoUrl": "",
      "userId": "02743193640501597305"
     },
     "user_tz": 420
    },
    "id": "forwSJdnQdAD",
    "outputId": "ead394bf-546e-4cd9-dd8e-4353d618332c"
   },
   "outputs": [
    {
     "data": {
      "text/plain": [
       "0.637225393530531"
      ]
     },
     "execution_count": 189,
     "metadata": {
      "tags": []
     },
     "output_type": "execute_result"
    }
   ],
   "source": [
    "from sklearn import metrics\n",
    "fpr, tpr, thresholds = metrics.roc_curve(y_test, y_pred)\n",
    "metrics.auc(fpr, tpr)"
   ]
  },
  {
   "cell_type": "code",
   "execution_count": 190,
   "metadata": {
    "colab": {
     "base_uri": "https://localhost:8080/",
     "height": 35
    },
    "executionInfo": {
     "elapsed": 677,
     "status": "ok",
     "timestamp": 1602976908692,
     "user": {
      "displayName": "XiaoWen Ji",
      "photoUrl": "",
      "userId": "02743193640501597305"
     },
     "user_tz": 420
    },
    "id": "AJTLA8pJq44k",
    "outputId": "8b833d52-87bf-4045-a1ed-c5e5e787161a"
   },
   "outputs": [
    {
     "data": {
      "text/plain": [
       "0.6111708891714761"
      ]
     },
     "execution_count": 190,
     "metadata": {
      "tags": []
     },
     "output_type": "execute_result"
    }
   ],
   "source": [
    "score1 = accuracy_score (y_test,y_pred)\n",
    "score1"
   ]
  },
  {
   "cell_type": "markdown",
   "metadata": {
    "id": "uf2ZOA3qihWg"
   },
   "source": [
    "Logistic regression \n"
   ]
  },
  {
   "cell_type": "code",
   "execution_count": 191,
   "metadata": {
    "colab": {
     "base_uri": "https://localhost:8080/",
     "height": 106
    },
    "executionInfo": {
     "elapsed": 627,
     "status": "ok",
     "timestamp": 1602976910701,
     "user": {
      "displayName": "XiaoWen Ji",
      "photoUrl": "",
      "userId": "02743193640501597305"
     },
     "user_tz": 420
    },
    "id": "swCE6v06io4o",
    "outputId": "54a47f7b-1751-4cae-8c9d-8baa427c04bc"
   },
   "outputs": [
    {
     "data": {
      "text/plain": [
       "LogisticRegression(C=0.0001, class_weight=None, dual=False, fit_intercept=True,\n",
       "                   intercept_scaling=1, l1_ratio=None, max_iter=100,\n",
       "                   multi_class='auto', n_jobs=None, penalty='l2',\n",
       "                   random_state=42, solver='lbfgs', tol=0.0001, verbose=0,\n",
       "                   warm_start=False)"
      ]
     },
     "execution_count": 191,
     "metadata": {
      "tags": []
     },
     "output_type": "execute_result"
    }
   ],
   "source": [
    "# logistic regression\n",
    "from sklearn.linear_model import LogisticRegression\n",
    "clf=LogisticRegression(C = 0.0001, penalty = 'l2', random_state = 42)\n",
    "clf.fit(X_train, y_train)"
   ]
  },
  {
   "cell_type": "code",
   "execution_count": 192,
   "metadata": {
    "executionInfo": {
     "elapsed": 729,
     "status": "ok",
     "timestamp": 1602976913690,
     "user": {
      "displayName": "XiaoWen Ji",
      "photoUrl": "",
      "userId": "02743193640501597305"
     },
     "user_tz": 420
    },
    "id": "YAwcmRcei00f"
   },
   "outputs": [],
   "source": [
    "model = clf\n",
    "y_train_preds = model.predict_proba(X_train)[:,1]\n",
    "y_test_preds = model.predict_proba(X_test)[:,1]\n",
    "# why [:,1], if not, the roc_curvey will be in bad shape"
   ]
  },
  {
   "cell_type": "code",
   "execution_count": 193,
   "metadata": {
    "colab": {
     "base_uri": "https://localhost:8080/",
     "height": 35
    },
    "executionInfo": {
     "elapsed": 661,
     "status": "ok",
     "timestamp": 1602976915866,
     "user": {
      "displayName": "XiaoWen Ji",
      "photoUrl": "",
      "userId": "02743193640501597305"
     },
     "user_tz": 420
    },
    "id": "teeaP7KxlCcK",
    "outputId": "8aedec29-26f3-4aaa-a9ad-f032b6184c6e"
   },
   "outputs": [
    {
     "data": {
      "text/plain": [
       "array([0, 1, 1, ..., 0, 1, 0])"
      ]
     },
     "execution_count": 193,
     "metadata": {
      "tags": []
     },
     "output_type": "execute_result"
    }
   ],
   "source": [
    "#y_test\n",
    "#y_test_preds\n",
    "y_pred"
   ]
  },
  {
   "cell_type": "code",
   "execution_count": 194,
   "metadata": {
    "executionInfo": {
     "elapsed": 1077,
     "status": "ok",
     "timestamp": 1602976919606,
     "user": {
      "displayName": "XiaoWen Ji",
      "photoUrl": "",
      "userId": "02743193640501597305"
     },
     "user_tz": 420
    },
    "id": "-yEsSCYSkmT0"
   },
   "outputs": [],
   "source": [
    "from sklearn.metrics import roc_curve\n",
    "from sklearn.metrics import roc_auc_score\n",
    "\n",
    "fpr_train, tpr_train, thresholds_train = roc_curve(y_train, y_train_preds)\n",
    "fpr_valid, tpr_valid, thresholds_valid = roc_curve(y_test, y_test_preds)\n",
    "\n",
    "\n",
    "thresh = 0.5\n",
    "\n",
    "auc_train = roc_auc_score(y_train, y_train_preds)\n",
    "auc_test = roc_auc_score(y_test, y_test_preds)"
   ]
  },
  {
   "cell_type": "code",
   "execution_count": 195,
   "metadata": {
    "colab": {
     "base_uri": "https://localhost:8080/",
     "height": 35
    },
    "executionInfo": {
     "elapsed": 592,
     "status": "ok",
     "timestamp": 1602976922273,
     "user": {
      "displayName": "XiaoWen Ji",
      "photoUrl": "",
      "userId": "02743193640501597305"
     },
     "user_tz": 420
    },
    "id": "6ZKRgIXknezD",
    "outputId": "2d6bfd71-f78a-441b-ec69-2df1a9eec4cf"
   },
   "outputs": [
    {
     "data": {
      "text/plain": [
       "0.6867229559182261"
      ]
     },
     "execution_count": 195,
     "metadata": {
      "tags": []
     },
     "output_type": "execute_result"
    }
   ],
   "source": [
    "auc_test"
   ]
  },
  {
   "cell_type": "code",
   "execution_count": 196,
   "metadata": {
    "colab": {
     "base_uri": "https://localhost:8080/",
     "height": 177
    },
    "executionInfo": {
     "elapsed": 589,
     "status": "ok",
     "timestamp": 1602976924531,
     "user": {
      "displayName": "XiaoWen Ji",
      "photoUrl": "",
      "userId": "02743193640501597305"
     },
     "user_tz": 420
    },
    "id": "9qF0fx-xy3M7",
    "outputId": "250c3eb1-ce65-45e3-ba98-5dff056e603f"
   },
   "outputs": [
    {
     "name": "stdout",
     "output_type": "stream",
     "text": [
      "              precision    recall  f1-score   support\n",
      "\n",
      "           0       0.97      0.64      0.77      9635\n",
      "           1       0.10      0.64      0.17       588\n",
      "\n",
      "    accuracy                           0.64     10223\n",
      "   macro avg       0.53      0.64      0.47     10223\n",
      "weighted avg       0.92      0.64      0.73     10223\n",
      "\n"
     ]
    }
   ],
   "source": [
    "from sklearn.metrics import classification_report\n",
    "\n",
    "print(classification_report(y_test, model.predict(X_test)))"
   ]
  }
 ],
 "metadata": {
  "colab": {
   "collapsed_sections": [],
   "name": "MiMicII_BoW_HW2.ipynb",
   "provenance": []
  },
  "kernelspec": {
   "display_name": "Python 3",
   "language": "python",
   "name": "python3"
  },
  "language_info": {
   "codemirror_mode": {
    "name": "ipython",
    "version": 3
   },
   "file_extension": ".py",
   "mimetype": "text/x-python",
   "name": "python",
   "nbconvert_exporter": "python",
   "pygments_lexer": "ipython3",
   "version": "3.7.6"
  }
 },
 "nbformat": 4,
 "nbformat_minor": 1
}
